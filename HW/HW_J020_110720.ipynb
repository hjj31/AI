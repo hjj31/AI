{
  "nbformat": 4,
  "nbformat_minor": 0,
  "metadata": {
    "colab": {
      "name": "HW_J020_110720.ipynb",
      "provenance": [],
      "authorship_tag": "ABX9TyMTr8B3OOXjKFtYkh8ES9U3",
      "include_colab_link": true
    },
    "kernelspec": {
      "name": "python3",
      "display_name": "Python 3"
    }
  },
  "cells": [
    {
      "cell_type": "markdown",
      "metadata": {
        "id": "view-in-github",
        "colab_type": "text"
      },
      "source": [
        "<a href=\"https://colab.research.google.com/github/hjj31/AI/blob/master/HW/HW_J020_110720.ipynb\" target=\"_parent\"><img src=\"https://colab.research.google.com/assets/colab-badge.svg\" alt=\"Open In Colab\"/></a>"
      ]
    },
    {
      "cell_type": "code",
      "metadata": {
        "id": "8ak0FaNA0ZZY",
        "colab_type": "code",
        "colab": {}
      },
      "source": [
        "import pandas as pd"
      ],
      "execution_count": 63,
      "outputs": []
    },
    {
      "cell_type": "code",
      "metadata": {
        "id": "4HSO5090jDxW",
        "colab_type": "code",
        "colab": {}
      },
      "source": [
        "class DataRead:\n",
        "  a=pd.read_csv('/content/SalesJan2009.csv')\n",
        "\n",
        "  def RowSelect():\n",
        "   x= int(input(\"Enter row 1 to select\"))\n",
        "   y= int(input(\"Enter row 2 to select\"))\n",
        "   print(DataRead.a.iloc[x])\n",
        "   print(DataRead.a.iloc[y])\n",
        "  \n",
        "class DataRead2(DataRead):\n",
        "    def Correlation():\n",
        "      import matplotlib.pyplot as plt\n",
        "      plt.matshow(DataRead.a.corr())\n",
        "      plt.xticks(range(len(DataRead.a.corr().columns)),DataRead.a.corr().columns)\n",
        "      plt.yticks(range(len(DataRead.a.corr().columns)),DataRead.a.corr().columns)\n",
        "      plt.show()\n",
        "    def RowSelect():\n",
        "        x= int(input(\"Enter row 1 to select\"))\n",
        "        y= int(input(\"Enter row 2 to select\"))\n",
        "        z= int(input(\"Enter row 3 to select\"))\n",
        "        print(DataRead.a.iloc[x])\n",
        "        print(DataRead.a.iloc[y])\n",
        "        print(DataRead.a.iloc[z])"
      ],
      "execution_count": 75,
      "outputs": []
    },
    {
      "cell_type": "code",
      "metadata": {
        "id": "kzUzX8_OpI8X",
        "colab_type": "code",
        "colab": {
          "base_uri": "https://localhost:8080/",
          "height": 275
        },
        "outputId": "29ca1ebf-584c-4e1a-ffc0-faa3edef5d1c"
      },
      "source": [
        "DataRead2.Correlation()"
      ],
      "execution_count": 76,
      "outputs": [
        {
          "output_type": "display_data",
          "data": {
            "image/png": "[encoded data removed]",
            "text/plain": [
              "<Figure size 288x288 with 1 Axes>"
            ]
          },
          "metadata": {
            "tags": [],
            "needs_background": "light"
          }
        }
      ]
    },
    {
      "cell_type": "code",
      "metadata": {
        "id": "bqGrPaP0m3Rd",
        "colab_type": "code",
        "colab": {
          "base_uri": "https://localhost:8080/",
          "height": 756
        },
        "outputId": "22b4c98a-4dc5-4678-c9d8-d6599545c2f1"
      },
      "source": [
        "DataRead2.RowSelect()"
      ],
      "execution_count": 77,
      "outputs": [
        {
          "output_type": "stream",
          "text": [
            "Enter row 1 to select3\n",
            "Enter row 2 to select4\n",
            "Enter row 3 to select5\n",
            "Transaction_date     1/3/09 14:44\n",
            "Product                  Product1\n",
            "Price                        1200\n",
            "Payment_Type                 Visa\n",
            "Name                        Gouya\n",
            "City                       Echuca\n",
            "State                    Victoria\n",
            "Country                 Australia\n",
            "Account_Created     9/25/05 21:13\n",
            "Last_Login           1/3/09 14:22\n",
            "Latitude                 -36.1333\n",
            "Longitude                  144.75\n",
            "Name: 3, dtype: object\n",
            "Transaction_date                    1/4/09 12:56\n",
            "Product                                 Product2\n",
            "Price                                       3600\n",
            "Payment_Type                                Visa\n",
            "Name                                     Gerd W \n",
            "City                Cahaba Heights              \n",
            "State                                         AL\n",
            "Country                            United States\n",
            "Account_Created                   11/15/08 15:47\n",
            "Last_Login                          1/4/09 12:45\n",
            "Latitude                                 33.5206\n",
            "Longitude                               -86.8025\n",
            "Name: 4, dtype: object\n",
            "Transaction_date                    1/4/09 13:19\n",
            "Product                                 Product1\n",
            "Price                                       1200\n",
            "Payment_Type                                Visa\n",
            "Name                                    LAURENCE\n",
            "City                Mickleton                   \n",
            "State                                         NJ\n",
            "Country                            United States\n",
            "Account_Created                    9/24/08 15:19\n",
            "Last_Login                          1/4/09 13:04\n",
            "Latitude                                   39.79\n",
            "Longitude                               -75.2381\n",
            "Name: 5, dtype: object\n"
          ],
          "name": "stdout"
        }
      ]
    }
  ]
}