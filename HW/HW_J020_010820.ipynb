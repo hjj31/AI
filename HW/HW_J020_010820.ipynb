{
  "nbformat": 4,
  "nbformat_minor": 0,
  "metadata": {
    "colab": {
      "name": "HW_J020_010820.ipynb",
      "provenance": [],
      "collapsed_sections": [],
      "authorship_tag": "ABX9TyOeg2FeFlq2L9dXr/hL0trK",
      "include_colab_link": true
    },
    "kernelspec": {
      "name": "python3",
      "display_name": "Python 3"
    }
  },
  "cells": [
    {
      "cell_type": "markdown",
      "metadata": {
        "id": "view-in-github",
        "colab_type": "text"
      },
      "source": [
        "<a href=\"https://colab.research.google.com/github/hjj31/AI/blob/master/HW/HW_J020_010820.ipynb\" target=\"_parent\"><img src=\"https://colab.research.google.com/assets/colab-badge.svg\" alt=\"Open In Colab\"/></a>"
      ]
    },
    {
      "cell_type": "markdown",
      "metadata": {
        "id": "uQnrYaO8pvRi",
        "colab_type": "text"
      },
      "source": [
        "Validating Postal codes:  \n",
        "regex_integer_in_range is a variable for verifying whether the postal code is in the valid range. [1-9] is for verifying the the foremost digit of the postal code. [0-9] is for verifying the rest of the digits. {5} is for defining and verifying the length of the postal code.\n",
        "regex_alternating_repetitive_in_range is a variable for checking whether a digit is repeting at alternative positions. \\d is for checking whether an element is a digit or not. It returns a match in the string that is a digit.    ?=\\d\\1 is for checking whether the alternative position is a repeting digit or not. re.match matches the criteria defined in regex_integer_in_range with the input and re.findall is used to find whether any of the input digits matches an alternating position of the string. The <2 operator is for detecting if the repetition exists or not. 2 is the count for repeting digits.\n",
        "\n",
        "\n",
        "https://www.hackerrank.com/rest/contests/master/challenges/validating-postalcode/hackers/heetansh_jhaveri/download_solution"
      ]
    },
    {
      "cell_type": "code",
      "metadata": {
        "id": "gMQkVWxEpl_E",
        "colab_type": "code",
        "colab": {}
      },
      "source": [
        "import re\n",
        "P=input()\n",
        "regex_integer_in_range = r\"^[1-9][0-9]{5}$\"\t# Do not delete 'r'.\n",
        "regex_alternating_repetitive_digit_pair = r\"(\\d)(?=\\d\\1)\"\t# Do not delete 'r'.\n",
        "print(bool(re.match(regex_integer_in_range,P)) and\n",
        "      len(re.findall(regex_alternating_repetitive_digit_pair,P))<2)"
      ],
      "execution_count": null,
      "outputs": []
    },
    {
      "cell_type": "markdown",
      "metadata": {
        "id": "ucyKc1gd44NX",
        "colab_type": "text"
      },
      "source": [
        "Coin change problem:\n",
        "\n",
        "pnc is the variable assigned to track the number of ways to make the change. It is defined in multidimensional arrays to keep a track for multiple types of coins. nw is the function to execute the multiple permutations. The for loop basically adds the existing possibilities with the new possibilities considering the new coins.\n",
        "\n",
        "https://www.hackerrank.com/rest/contests/master/challenges/coin-change/hackers/heetansh_jhaveri/download_solution"
      ]
    },
    {
      "cell_type": "code",
      "metadata": {
        "id": "3yWhbLlbpxkB",
        "colab_type": "code",
        "colab": {}
      },
      "source": [
        "import math\n",
        "import os\n",
        "import random\n",
        "import re\n",
        "import sys\n",
        "\n",
        "def nw(n, c):\n",
        "    pnc = [1]+[0]*n\n",
        "    for coin in c:\n",
        "        for i in range(coin, n+1):\n",
        "            pnc[i] =pnc[i] + pnc[i-coin]\n",
        "    return pnc[n]\n",
        "    \n",
        "n, m = map(int, input().split())\n",
        "c = list(map(int, input().split()))\n",
        "print(nw(n, c))"
      ],
      "execution_count": null,
      "outputs": []
    },
    {
      "cell_type": "markdown",
      "metadata": {
        "id": "j3cu2RW4CQ3n",
        "colab_type": "text"
      },
      "source": [
        "Sherlock and Cost problem:\n",
        "\n",
        "This problem requires the input to be split so that 2 adjacent values can be absolute subtracted to find maximum cost/difference between the values.\n",
        "\n",
        "\n",
        "https://www.hackerrank.com/rest/contests/master/challenges/sherlock-and-cost/hackers/heetansh_jhaveri/download_solution"
      ]
    },
    {
      "cell_type": "code",
      "metadata": {
        "id": "s_N4Gna4CREg",
        "colab_type": "code",
        "colab": {}
      },
      "source": [
        "import math\n",
        "import os\n",
        "import random\n",
        "import re\n",
        "import sys\n",
        "\n",
        "for t in range(int(input())):\n",
        "    _ = input()\n",
        "    arr = [int(x) for x in input().split()]\n",
        "    \n",
        "    smin = 0\n",
        "    smax = 0\n",
        "    for i in range(1, len(arr)):\n",
        "        snewmin = max(smin + 0, smax + arr[i-1] - 1)\n",
        "        snewmax = max(smin + arr[i] - 1, smax + abs(arr[i] - arr[i-1]))\n",
        "        smin = snewmin\n",
        "        smax = snewmax\n",
        "        \n",
        "    print(max(smin, smax))"
      ],
      "execution_count": null,
      "outputs": []
    }
  ]
}