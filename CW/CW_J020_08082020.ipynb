{
  "nbformat": 4,
  "nbformat_minor": 0,
  "metadata": {
    "colab": {
      "name": "CW_J020_08082020.ipynb",
      "provenance": [],
      "authorship_tag": "ABX9TyO9miGhFBslKO1Alr9LyL3A",
      "include_colab_link": true
    },
    "kernelspec": {
      "name": "python3",
      "display_name": "Python 3"
    }
  },
  "cells": [
    {
      "cell_type": "markdown",
      "metadata": {
        "id": "view-in-github",
        "colab_type": "text"
      },
      "source": [
        "<a href=\"https://colab.research.google.com/github/hjj31/AI/blob/master/CW/CW_J020_08082020.ipynb\" target=\"_parent\"><img src=\"https://colab.research.google.com/assets/colab-badge.svg\" alt=\"Open In Colab\"/></a>"
      ]
    },
    {
      "cell_type": "code",
      "metadata": {
        "id": "IHfVQND9Dt6X",
        "colab_type": "code",
        "colab": {
          "base_uri": "https://localhost:8080/",
          "height": 35
        },
        "outputId": "d9a80d57-729e-4cc8-c6b1-72d434b9ad47"
      },
      "source": [
        "def fact(n):\n",
        "    product = 1\n",
        "    for i in range(n):\n",
        "        product = product * (i+1)  # number of computations n=5\n",
        "    return product\n",
        "\n",
        "print (fact(5))"
      ],
      "execution_count": 1,
      "outputs": [
        {
          "output_type": "stream",
          "text": [
            "120\n"
          ],
          "name": "stdout"
        }
      ]
    },
    {
      "cell_type": "code",
      "metadata": {
        "id": "SLc06QvyECxl",
        "colab_type": "code",
        "colab": {
          "base_uri": "https://localhost:8080/",
          "height": 52
        },
        "outputId": "67eae205-723d-4648-f221-a8d7d69182c6"
      },
      "source": [
        "%timeit (fact(2))"
      ],
      "execution_count": 2,
      "outputs": [
        {
          "output_type": "stream",
          "text": [
            "The slowest run took 7.65 times longer than the fastest. This could mean that an intermediate result is being cached.\n",
            "1000000 loops, best of 3: 363 ns per loop\n"
          ],
          "name": "stdout"
        }
      ]
    },
    {
      "cell_type": "code",
      "metadata": {
        "id": "Hsst-t-iEDMb",
        "colab_type": "code",
        "colab": {
          "base_uri": "https://localhost:8080/",
          "height": 35
        },
        "outputId": "caf004bd-31dd-492a-e333-3f98dffb086d"
      },
      "source": [
        "%timeit (fact(20))"
      ],
      "execution_count": 3,
      "outputs": [
        {
          "output_type": "stream",
          "text": [
            "1000000 loops, best of 3: 1.53 µs per loop\n"
          ],
          "name": "stdout"
        }
      ]
    },
    {
      "cell_type": "code",
      "metadata": {
        "id": "tvaOoINdEDJ_",
        "colab_type": "code",
        "colab": {
          "base_uri": "https://localhost:8080/",
          "height": 35
        },
        "outputId": "d004ba8a-9a9a-4c2b-d2a6-cf2567b5357f"
      },
      "source": [
        "%timeit (fact(200))"
      ],
      "execution_count": 4,
      "outputs": [
        {
          "output_type": "stream",
          "text": [
            "10000 loops, best of 3: 25.6 µs per loop\n"
          ],
          "name": "stdout"
        }
      ]
    },
    {
      "cell_type": "code",
      "metadata": {
        "id": "uFVa1CMVEDHf",
        "colab_type": "code",
        "colab": {
          "base_uri": "https://localhost:8080/",
          "height": 35
        },
        "outputId": "88a8c4fb-222e-40c0-9c1c-d258d52beacc"
      },
      "source": [
        "%timeit (fact(2000))"
      ],
      "execution_count": 5,
      "outputs": [
        {
          "output_type": "stream",
          "text": [
            "1000 loops, best of 3: 837 µs per loop\n"
          ],
          "name": "stdout"
        }
      ]
    },
    {
      "cell_type": "code",
      "metadata": {
        "id": "E50GCnrQEDFD",
        "colab_type": "code",
        "colab": {}
      },
      "source": [
        "def sum(a,b):\n",
        "    return a+b"
      ],
      "execution_count": 6,
      "outputs": []
    },
    {
      "cell_type": "code",
      "metadata": {
        "id": "XV_NC1UUEDCd",
        "colab_type": "code",
        "colab": {
          "base_uri": "https://localhost:8080/",
          "height": 52
        },
        "outputId": "2f09d7ba-b951-4d83-e7f1-183c2b978d7f"
      },
      "source": [
        "%timeit sum(2,3)"
      ],
      "execution_count": 7,
      "outputs": [
        {
          "output_type": "stream",
          "text": [
            "The slowest run took 16.53 times longer than the fastest. This could mean that an intermediate result is being cached.\n",
            "10000000 loops, best of 3: 90.2 ns per loop\n"
          ],
          "name": "stdout"
        }
      ]
    },
    {
      "cell_type": "code",
      "metadata": {
        "id": "Ybw-8vCzEa0t",
        "colab_type": "code",
        "colab": {
          "base_uri": "https://localhost:8080/",
          "height": 52
        },
        "outputId": "eeedb8fe-b6f1-45f7-a5a3-55b00b499104"
      },
      "source": [
        "%timeit sum(20,30)"
      ],
      "execution_count": 8,
      "outputs": [
        {
          "output_type": "stream",
          "text": [
            "The slowest run took 21.94 times longer than the fastest. This could mean that an intermediate result is being cached.\n",
            "10000000 loops, best of 3: 89.3 ns per loop\n"
          ],
          "name": "stdout"
        }
      ]
    },
    {
      "cell_type": "code",
      "metadata": {
        "id": "Anr4sagnEayZ",
        "colab_type": "code",
        "colab": {
          "base_uri": "https://localhost:8080/",
          "height": 35
        },
        "outputId": "e3583750-38e5-40c5-d016-a230b5caa35b"
      },
      "source": [
        "%timeit sum(200,300)"
      ],
      "execution_count": 9,
      "outputs": [
        {
          "output_type": "stream",
          "text": [
            "10000000 loops, best of 3: 101 ns per loop\n"
          ],
          "name": "stdout"
        }
      ]
    },
    {
      "cell_type": "code",
      "metadata": {
        "id": "uBiN8cFvEawJ",
        "colab_type": "code",
        "colab": {
          "base_uri": "https://localhost:8080/",
          "height": 52
        },
        "outputId": "4b5e8403-adaf-4ad4-9868-1ea5b0e702b5"
      },
      "source": [
        "%timeit sum(2000,3000)"
      ],
      "execution_count": 10,
      "outputs": [
        {
          "output_type": "stream",
          "text": [
            "The slowest run took 20.39 times longer than the fastest. This could mean that an intermediate result is being cached.\n",
            "10000000 loops, best of 3: 100 ns per loop\n"
          ],
          "name": "stdout"
        }
      ]
    },
    {
      "cell_type": "code",
      "metadata": {
        "id": "axb27OctEatd",
        "colab_type": "code",
        "colab": {
          "base_uri": "https://localhost:8080/",
          "height": 52
        },
        "outputId": "0f61d671-9ded-4120-a8c4-a144da2d6fa7"
      },
      "source": [
        "%timeit sum(20000,30000)"
      ],
      "execution_count": 11,
      "outputs": [
        {
          "output_type": "stream",
          "text": [
            "The slowest run took 22.23 times longer than the fastest. This could mean that an intermediate result is being cached.\n",
            "10000000 loops, best of 3: 99.9 ns per loop\n"
          ],
          "name": "stdout"
        }
      ]
    },
    {
      "cell_type": "markdown",
      "metadata": {
        "id": "RQ0-gtvEEsmP",
        "colab_type": "text"
      },
      "source": [
        "NP(Problem) - Solution is in non polynomial time\n",
        "\n",
        "P(Problem) - Max Solution time or Upper Bound is in Polynomial Time O(n^4) -> \n",
        "\n",
        "log n =[](is log n polynomial time or not ?)\n",
        "             (n*logn)\n",
        "              log 50(base10) - 1.69 ()<n^1\n",
        "              log 500(base10) - 2.69 ()<n^1\n",
        "              log 5000(base10) - 3.69 ()<n^1\n",
        "              for non linear change in n , change is linear\n",
        "\n",
        "##NP () - n!\n",
        "##      5!   120 -> <5^3\n",
        "##      50!  3.0414093e+64 microsecs -> days -> 3.5201497e+53 days\n",
        "##    500! \n",
        "##     5000!\n",
        "      \n",
        "NP Complete - > All NP hard problems can be approximated to the problem then it is NP Complete. \n",
        "NP hard - > A problem is NP Hard if its solution is in NP, Cannot be verified in Polynomial Time\n",
        "            \n",
        "AI Complete or \n",
        "AI Hard Problems\n",
        "SAT - n-SAT (2-SAT)"
      ]
    }
  ]
}