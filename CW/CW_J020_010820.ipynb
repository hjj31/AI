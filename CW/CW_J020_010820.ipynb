{
  "nbformat": 4,
  "nbformat_minor": 0,
  "metadata": {
    "colab": {
      "name": "CW_J020_010820.ipynb",
      "provenance": [],
      "collapsed_sections": [],
      "authorship_tag": "ABX9TyMvKYWCS1kS3k9ACEDQoG2v",
      "include_colab_link": true
    },
    "kernelspec": {
      "name": "python3",
      "display_name": "Python 3"
    }
  },
  "cells": [
    {
      "cell_type": "markdown",
      "metadata": {
        "id": "view-in-github",
        "colab_type": "text"
      },
      "source": [
        "<a href=\"https://colab.research.google.com/github/hjj31/AI/blob/master/CW/CW_J020_010820.ipynb\" target=\"_parent\"><img src=\"https://colab.research.google.com/assets/colab-badge.svg\" alt=\"Open In Colab\"/></a>"
      ]
    },
    {
      "cell_type": "code",
      "metadata": {
        "id": "E63CG_QKI4w6",
        "colab_type": "code",
        "colab": {}
      },
      "source": [
        "def fact_simple(x):\n",
        "  if x < 0:\n",
        "    print(\"not exists\")\n",
        "  elif x == 0:\n",
        "    print(1)\n",
        "  else:\n",
        "    fact=1\n",
        "    for i in range(1,1+x):\n",
        "      fact=fact*i \n",
        "  print(fact)\n",
        "def factorial_recursion(x):\n",
        "    factor=1\n",
        "    if (x==0):\n",
        "        return factor\n",
        "    else:\n",
        "        return x*factorial_recursion(x-1)\n"
      ],
      "execution_count": 1,
      "outputs": []
    },
    {
      "cell_type": "code",
      "metadata": {
        "id": "MN8TXhonJIQq",
        "colab_type": "code",
        "colab": {
          "base_uri": "https://localhost:8080/",
          "height": 35
        },
        "outputId": "b680d47d-8644-447d-eefc-c73958b3c503"
      },
      "source": [
        "fact_simple(10)"
      ],
      "execution_count": 2,
      "outputs": [
        {
          "output_type": "stream",
          "text": [
            "3628800\n"
          ],
          "name": "stdout"
        }
      ]
    },
    {
      "cell_type": "code",
      "metadata": {
        "id": "9aHVWFhaJIZL",
        "colab_type": "code",
        "colab": {}
      },
      "source": [
        "def fibonacci_series(n):\n",
        "  if n < 0:\n",
        "    print(\"not valid\")\n",
        "  elif n == 0:\n",
        "    return 0\n",
        "  elif n == 1:\n",
        "    return 1\n",
        "  else:\n",
        "    return fibonacci_series(n-1)+fibonacci_series(n-2)\n"
      ],
      "execution_count": 3,
      "outputs": []
    },
    {
      "cell_type": "code",
      "metadata": {
        "id": "TEeios4zJImz",
        "colab_type": "code",
        "colab": {
          "base_uri": "https://localhost:8080/",
          "height": 263
        },
        "outputId": "4ce89621-4e44-4a3c-afb8-2f683c5dd70c"
      },
      "source": [
        "n=int(input(\"Enter the no. of terms:\")) \n",
        "  \n",
        "if n<=0:\n",
        "  print(\"entered number is not valid.\")  \n",
        "else:  \n",
        "   print(\"Fibonacci sequence is:\")  \n",
        "   for i in range(n):  \n",
        "       print(fibonacci_series(i))"
      ],
      "execution_count": 4,
      "outputs": [
        {
          "output_type": "stream",
          "text": [
            "Enter the no. of terms:12\n",
            "Fibonacci sequence is:\n",
            "0\n",
            "1\n",
            "1\n",
            "2\n",
            "3\n",
            "5\n",
            "8\n",
            "13\n",
            "21\n",
            "34\n",
            "55\n",
            "89\n"
          ],
          "name": "stdout"
        }
      ]
    },
    {
      "cell_type": "code",
      "metadata": {
        "id": "WtZV7gmmJIqg",
        "colab_type": "code",
        "colab": {}
      },
      "source": [
        "#Binary search\n",
        "list=[25,5342,2648,21,5449]\n",
        "\n",
        "list1=list.copy().sort()\n",
        "\n",
        "list1"
      ],
      "execution_count": 5,
      "outputs": []
    },
    {
      "cell_type": "markdown",
      "metadata": {
        "id": "B0F9B0DEJtLl",
        "colab_type": "text"
      },
      "source": [
        "Tractable- PTIME (Polynomial Time Solvable)\n",
        "\n",
        "Polynomial - expression where each term is n^k where k can be any whole number\n",
        "\n",
        "Polynomial Runtime - Runtime of the code should be a polynomial. polynomial of degree k where k is a constant, and since it is time n cannot be negative n: input space or dimension eg. O(n^4) n=1 => 1 n=2 => 2^4 n=3 => 3^4 n=4 => 4^4\n",
        "\n",
        "O(n!) nn-1n-2n-3n-4n-5n-6 => It is not a polynomial - Non Polynomial Time (NP)\n",
        "\n"
      ]
    },
    {
      "cell_type": "code",
      "metadata": {
        "id": "qBLHa3LFJIkv",
        "colab_type": "code",
        "colab": {}
      },
      "source": [
        ""
      ],
      "execution_count": null,
      "outputs": []
    },
    {
      "cell_type": "code",
      "metadata": {
        "id": "-b1HMcn8JIim",
        "colab_type": "code",
        "colab": {}
      },
      "source": [
        ""
      ],
      "execution_count": null,
      "outputs": []
    },
    {
      "cell_type": "code",
      "metadata": {
        "id": "cO3iQjILJIge",
        "colab_type": "code",
        "colab": {}
      },
      "source": [
        ""
      ],
      "execution_count": null,
      "outputs": []
    },
    {
      "cell_type": "code",
      "metadata": {
        "id": "wfX4vp9yJIdY",
        "colab_type": "code",
        "colab": {}
      },
      "source": [
        ""
      ],
      "execution_count": null,
      "outputs": []
    },
    {
      "cell_type": "code",
      "metadata": {
        "id": "JDLWB19fJIYF",
        "colab_type": "code",
        "colab": {}
      },
      "source": [
        ""
      ],
      "execution_count": null,
      "outputs": []
    },
    {
      "cell_type": "code",
      "metadata": {
        "id": "qIg3985CJIVc",
        "colab_type": "code",
        "colab": {}
      },
      "source": [
        ""
      ],
      "execution_count": null,
      "outputs": []
    }
  ]
}