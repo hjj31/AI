{
  "nbformat": 4,
  "nbformat_minor": 0,
  "metadata": {
    "kernelspec": {
      "display_name": "Python 3",
      "language": "python",
      "name": "python3"
    },
    "language_info": {
      "codemirror_mode": {
        "name": "ipython",
        "version": 3
      },
      "file_extension": ".py",
      "mimetype": "text/x-python",
      "name": "python",
      "nbconvert_exporter": "python",
      "pygments_lexer": "ipython3",
      "version": "3.7.4"
    },
    "colab": {
      "name": "J020_Learning_shopping.ipynb",
      "provenance": [],
      "include_colab_link": true
    }
  },
  "cells": [
    {
      "cell_type": "markdown",
      "metadata": {
        "id": "view-in-github",
        "colab_type": "text"
      },
      "source": [
        "<a href=\"https://colab.research.google.com/github/hjj31/AI/blob/master/CS50/Learning/J020_Learning_shopping.ipynb\" target=\"_parent\"><img src=\"https://colab.research.google.com/assets/colab-badge.svg\" alt=\"Open In Colab\"/></a>"
      ]
    },
    {
      "cell_type": "code",
      "metadata": {
        "id": "Z9djg66h8K72"
      },
      "source": [
        "import csv\n",
        "import sys\n",
        "from sklearn.model_selection import train_test_split\n",
        "from sklearn.neighbors import KNeighborsClassifier\n",
        "import numpy as np\n",
        "import pandas as pd\n",
        "from pandas import DataFrame as dframe"
      ],
      "execution_count": null,
      "outputs": []
    },
    {
      "cell_type": "code",
      "metadata": {
        "id": "sKxUoswF8K76"
      },
      "source": [
        "TEST_SIZE = 0.4"
      ],
      "execution_count": null,
      "outputs": []
    },
    {
      "cell_type": "code",
      "metadata": {
        "id": "l0kwZL2r8K79"
      },
      "source": [
        "def main():\n",
        "    \n",
        "    # Load data from spreadsheet and split into train and test sets\n",
        "    evidence, labels = load_data(sys.argv[1])\n",
        "    X_train, X_test, y_train, y_test = train_test_split(evidence, labels, test_size=TEST_SIZE)\n",
        "    # Train model and make predictions\n",
        "    model = train_model(X_train, y_train)\n",
        "    predictions = model.predict(X_test)\n",
        "    sensitivity, specificity = evaluate(y_test, predictions)\n",
        "\n",
        "    # Print results\n",
        "    print(f\"Correct: {(y_test == predictions).sum()}\")\n",
        "    print(f\"Incorrect: {(y_test != predictions).sum()}\")\n",
        "    print(f\"True Positive Rate: {100 * sensitivity:.2f}%\")\n",
        "    print(f\"True Negative Rate: {100 * specificity:.2f}%\")"
      ],
      "execution_count": null,
      "outputs": []
    },
    {
      "cell_type": "code",
      "metadata": {
        "id": "3cCLJlJ18K8A"
      },
      "source": [
        "def load_data(filename):\n",
        "    import numpy as np\n",
        "    import pandas as pd\n",
        "    filename = pd.read_csv(r\"C:\\Users\\91773\\Desktop\\shopping\\shopping\\shopping.csv\")\n",
        "    df = filename\n",
        "    month = { 'Feb': 1, 'Mar': 2, 'May': 4, 'June':5, 'Jul':6, 'Aug':7, 'Sep': 8, 'Oct':9, 'Nov': 10, 'Dec': 11}\n",
        "    df.Month = [month[item] for item in df.Month]\n",
        "    vistype = { 'Returning_Visitor': 1, 'New_Visitor': 0, 'Other':0 }\n",
        "    df.VisitorType = [vistype[item] for item in df.VisitorType]\n",
        "    df['Weekend'] = df['Weekend']*1\n",
        "    df['Revenue'] = df['Revenue']*1\n",
        "    \n",
        "    evidence = df.drop(columns = 'Revenue')\n",
        "    \n",
        "    Administrative = np.array(evidence['Administrative'], dtype = int)\n",
        "    Administrative_Duration = np.array(evidence['Administrative_Duration'])\n",
        "    Informational = np.array(evidence['Informational'], dtype = int)\n",
        "    Informational_Duration = np.array(evidence['Informational_Duration'])\n",
        "    ProductRelated = np.array(evidence['ProductRelated'], dtype = int)\n",
        "    ProductRelated_Duration = np.array(evidence['ProductRelated_Duration'])\n",
        "    BounceRates = np.array(evidence['BounceRates'])\n",
        "    ExitRates = np.array(evidence['ExitRates'])\n",
        "    PageValues = np.array(evidence['PageValues'])\n",
        "    SpecialDay = np.array(evidence['SpecialDay'])\n",
        "    Month = np.array(evidence['Month'], dtype = int)\n",
        "    OperatingSystems = np.array(evidence['OperatingSystems'], dtype = int)\n",
        "    Browser = np.array(evidence['Browser'], dtype = int)\n",
        "    Region = np.array(evidence['Region'], dtype = int)\n",
        "    TrafficType = np.array(evidence['TrafficType'], dtype = int)\n",
        "    VisitorType = np.array(evidence['VisitorType'], dtype = int)\n",
        "    Weekend = np.array(evidence['Weekend'], dtype = int)\n",
        "    \n",
        "    evidence = np.array([Administrative, Administrative_Duration, Informational,Informational_Duration, ProductRelated, ProductRelated_Duration, BounceRates, ExitRates, PageValues, SpecialDay, Month, OperatingSystems, Browser, Region, TrafficType, VisitorType, Weekend], dtype = object).T.tolist()\n",
        "    \n",
        "    labels = df['Revenue'].tolist()\n",
        "    \n",
        "    return (evidence, labels)\n",
        "    raise NotImplementedError"
      ],
      "execution_count": null,
      "outputs": []
    },
    {
      "cell_type": "code",
      "metadata": {
        "id": "QCqqQ87W8K8C"
      },
      "source": [
        "def train_model(X_train, y_train):\n",
        "    from sklearn.neighbors import KNeighborsClassifier\n",
        "    model = KNeighborsClassifier(n_neighbors = 1)\n",
        "    model = model.fit(X_train, y_train)\n",
        "    return model\n",
        "    raise NotImplementedError"
      ],
      "execution_count": null,
      "outputs": []
    },
    {
      "cell_type": "code",
      "metadata": {
        "id": "e8QL7BhE8K8F"
      },
      "source": [
        "def evaluate(y_test, predictions):    \n",
        "    from sklearn.metrics import confusion_matrix\n",
        "    result = confusion_matrix(y_test, predictions)\n",
        "    specificity= result[0,0]/(result[0,0]+result[1,0])\n",
        "    sensitivity= result[1,1]/(result[1,1]+result[0,1])\n",
        "    return sensitivity,specificity\n",
        "    \n",
        "    raise NotImplementedError"
      ],
      "execution_count": null,
      "outputs": []
    },
    {
      "cell_type": "code",
      "metadata": {
        "id": "RI_nS7fa8K8H",
        "outputId": "c8fcc09a-2f13-435a-fda7-e181f7858d25"
      },
      "source": [
        "main()"
      ],
      "execution_count": null,
      "outputs": [
        {
          "output_type": "stream",
          "text": [
            "Correct: 4047\n",
            "Incorrect: 885\n",
            "True Positive Rate: 40.06%\n",
            "True Negative Rate: 88.99%\n"
          ],
          "name": "stdout"
        }
      ]
    }
  ]
}