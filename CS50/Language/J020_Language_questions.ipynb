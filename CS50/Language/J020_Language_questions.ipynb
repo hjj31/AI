{
  "nbformat": 4,
  "nbformat_minor": 0,
  "metadata": {
    "colab": {
      "name": "J020_Language_questions.ipynb",
      "provenance": [],
      "authorship_tag": "ABX9TyM1uAf7OMSYhl77dyepxnQ8",
      "include_colab_link": true
    },
    "kernelspec": {
      "name": "python3",
      "display_name": "Python 3"
    }
  },
  "cells": [
    {
      "cell_type": "markdown",
      "metadata": {
        "id": "view-in-github",
        "colab_type": "text"
      },
      "source": [
        "<a href=\"https://colab.research.google.com/github/hjj31/AI/blob/master/CS50/Language/J020_Language_questions.ipynb\" target=\"_parent\"><img src=\"https://colab.research.google.com/assets/colab-badge.svg\" alt=\"Open In Colab\"/></a>"
      ]
    },
    {
      "cell_type": "code",
      "metadata": {
        "id": "2CdsHsJrw06x",
        "outputId": "ad259cdd-3e3b-442c-e318-bda7eb11db47",
        "colab": {
          "base_uri": "https://localhost:8080/",
          "height": 105
        }
      },
      "source": [
        "import nltk\n",
        "import sys\n",
        "import os\n",
        "import string\n",
        "import math\n",
        "nltk.download('stopwords')\n",
        "nltk.download('punkt')"
      ],
      "execution_count": null,
      "outputs": [
        {
          "output_type": "stream",
          "text": [
            "[nltk_data] Downloading package stopwords to /root/nltk_data...\n",
            "[nltk_data]   Package stopwords is already up-to-date!\n",
            "[nltk_data] Downloading package punkt to /root/nltk_data...\n",
            "[nltk_data]   Package punkt is already up-to-date!\n"
          ],
          "name": "stdout"
        },
        {
          "output_type": "execute_result",
          "data": {
            "text/plain": [
              "True"
            ]
          },
          "metadata": {
            "tags": []
          },
          "execution_count": 1
        }
      ]
    },
    {
      "cell_type": "code",
      "metadata": {
        "id": "jSyPBHx7xAQE"
      },
      "source": [
        "FILE_MATCHES = 1\n",
        "SENTENCE_MATCHES = 1"
      ],
      "execution_count": null,
      "outputs": []
    },
    {
      "cell_type": "code",
      "metadata": {
        "id": "R4BmswcJxASP"
      },
      "source": [
        "def main():\n",
        "    # Calculate IDF values across files\n",
        "    files = load_files(sys.argv[1])\n",
        "    file_words = {\n",
        "        filename: tokenize(files[filename])\n",
        "        for filename in files\n",
        "    }\n",
        "    file_idfs = compute_idfs(file_words)\n",
        "\n",
        "    # Prompt user for query\n",
        "    query = set(tokenize(input(\"Query: \")))\n",
        "\n",
        "    # Determine top file matches according to TF-IDF\n",
        "    filenames = top_files(query, file_words, file_idfs, n=FILE_MATCHES)\n",
        "\n",
        "    # Extract sentences from top files\n",
        "    sentences = dict()\n",
        "    for filename in filenames:\n",
        "        for passage in files[filename].split(\"\\n\"):\n",
        "            for sentence in nltk.sent_tokenize(passage):\n",
        "                tokens = tokenize(sentence)\n",
        "                if tokens:\n",
        "                    sentences[sentence] = tokens\n",
        "\n",
        "    # Compute IDF values across sentences\n",
        "    idfs = compute_idfs(sentences)\n",
        "\n",
        "    # Determine top sentence matches\n",
        "    matches = top_sentences(query, sentences, idfs, n=SENTENCE_MATCHES)\n",
        "    for match in matches:\n",
        "        print(match)"
      ],
      "execution_count": null,
      "outputs": []
    },
    {
      "cell_type": "code",
      "metadata": {
        "id": "ZsB6HyJYxAUd"
      },
      "source": [
        "def load_files(directory):\n",
        "    directory=(r\"/content/corpus\")\n",
        "    file_contents = dict()\n",
        "\n",
        "    for root, _, files in os.walk(directory):\n",
        "        for file in files:\n",
        "            f = open(os.path.join(root, file), \"r\")\n",
        "            file_contents[file] = f.read()\n",
        "\n",
        "    return file_contents"
      ],
      "execution_count": null,
      "outputs": []
    },
    {
      "cell_type": "code",
      "metadata": {
        "id": "qu9_7qCExAWv"
      },
      "source": [
        "def tokenize(document):\n",
        "    punctuation = string.punctuation\n",
        "    stop_words = nltk.corpus.stopwords.words(\"english\")\n",
        "\n",
        "    words = nltk.word_tokenize(document.lower())\n",
        "    words = [word for word in words if word not in punctuation and word not in stop_words]\n",
        "\n",
        "    return words"
      ],
      "execution_count": null,
      "outputs": []
    },
    {
      "cell_type": "code",
      "metadata": {
        "id": "qpTE0UQuxAZZ"
      },
      "source": [
        "def compute_idfs(documents):\n",
        "    idfs = dict()\n",
        "    total_num_documents = len(documents)\n",
        "    words = set(word for sublist in documents.values() for word in sublist)\n",
        "    \n",
        "    for word in words:\n",
        "        num_documents_containing_word = 0\n",
        "        \n",
        "        for document in documents.values():\n",
        "            if word in document:\n",
        "                num_documents_containing_word += 1\n",
        "        \n",
        "        idf = math.log(total_num_documents / num_documents_containing_word)\n",
        "        idfs[word] = idf\n",
        "\n",
        "    return idfs\n"
      ],
      "execution_count": null,
      "outputs": []
    },
    {
      "cell_type": "code",
      "metadata": {
        "id": "_Ixio2sOxAbn"
      },
      "source": [
        "def top_files(query, files, idfs, n):\n",
        "    file_scores = dict()\n",
        "\n",
        "    for file, words in files.items():\n",
        "        total_tf_idf = 0\n",
        "        for word in query:\n",
        "            total_tf_idf += words.count(word) * idfs[word]\n",
        "        file_scores[file] = total_tf_idf\n",
        "\n",
        "    ranked_files = sorted(file_scores.items(), key=lambda x: x[1], reverse=True)\n",
        "    ranked_files = [x[0] for x in ranked_files]\n",
        "\n",
        "    return ranked_files[:n]"
      ],
      "execution_count": null,
      "outputs": []
    },
    {
      "cell_type": "code",
      "metadata": {
        "id": "9iON1zHCxAd2"
      },
      "source": [
        "def top_sentences(query, sentences, idfs, n):\n",
        "    sentence_scores = dict()\n",
        "\n",
        "    for sentence, words in sentences.items():\n",
        "        words_in_query = query.intersection(words)\n",
        "        \n",
        "        # idf value of sentence\n",
        "        idf = 0\n",
        "        for word in words_in_query:\n",
        "            idf += idfs[word]\n",
        "        \n",
        "        # query term density of sentence\n",
        "        num_words_in_query = sum(map(lambda x: x in words_in_query, words))\n",
        "        query_term_density = num_words_in_query / len(words)\n",
        "\n",
        "        # update sentence scores with idf and query term density values\n",
        "        sentence_scores[sentence] = {'idf': idf, 'qtd': query_term_density}\n",
        "    \n",
        "    # rank sentences by idf then query term density\n",
        "    ranked_sentences = sorted(sentence_scores.items(), key=lambda x: (x[1]['idf'], x[1]['qtd']), reverse=True)\n",
        "    ranked_sentences = [x[0] for x in ranked_sentences]\n",
        "\n",
        "    return ranked_sentences[:n]\n"
      ],
      "execution_count": null,
      "outputs": []
    },
    {
      "cell_type": "code",
      "metadata": {
        "id": "Mxn8IrtpxZgx",
        "outputId": "54fe33d3-afc0-4232-99c3-9bc5aebc57ff",
        "colab": {
          "base_uri": "https://localhost:8080/",
          "height": 52
        }
      },
      "source": [
        "main()"
      ],
      "execution_count": null,
      "outputs": [
        {
          "output_type": "stream",
          "text": [
            "Query: What are the types of supervised learning?\n",
            "Types of supervised learning algorithms include Active learning , classification and regression.\n"
          ],
          "name": "stdout"
        }
      ]
    }
  ]
}