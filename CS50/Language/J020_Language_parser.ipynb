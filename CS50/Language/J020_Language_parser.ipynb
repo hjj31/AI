{
  "nbformat": 4,
  "nbformat_minor": 0,
  "metadata": {
    "colab": {
      "name": "J020_Language_parser.ipynb",
      "provenance": [],
      "authorship_tag": "ABX9TyPoXuHxbk+xMStgt1WpIuZ1",
      "include_colab_link": true
    },
    "kernelspec": {
      "name": "python3",
      "display_name": "Python 3"
    }
  },
  "cells": [
    {
      "cell_type": "markdown",
      "metadata": {
        "id": "view-in-github",
        "colab_type": "text"
      },
      "source": [
        "<a href=\"https://colab.research.google.com/github/hjj31/AI/blob/master/CS50/Language/J020_Language_parser.ipynb\" target=\"_parent\"><img src=\"https://colab.research.google.com/assets/colab-badge.svg\" alt=\"Open In Colab\"/></a>"
      ]
    },
    {
      "cell_type": "code",
      "metadata": {
        "id": "qjsPrBzWuu1V",
        "outputId": "bb830a0d-947d-47b1-e547-7ed2a7bbb60d",
        "colab": {
          "base_uri": "https://localhost:8080/",
          "height": 70
        }
      },
      "source": [
        "import nltk\n",
        "import sys\n",
        "import re\n",
        "import nltk\n",
        "nltk.download('punkt')"
      ],
      "execution_count": 1,
      "outputs": [
        {
          "output_type": "stream",
          "text": [
            "[nltk_data] Downloading package punkt to /root/nltk_data...\n",
            "[nltk_data]   Package punkt is already up-to-date!\n"
          ],
          "name": "stdout"
        },
        {
          "output_type": "execute_result",
          "data": {
            "text/plain": [
              "True"
            ]
          },
          "metadata": {
            "tags": []
          },
          "execution_count": 1
        }
      ]
    },
    {
      "cell_type": "code",
      "metadata": {
        "id": "4ddmGEEDvMvJ"
      },
      "source": [
        "TERMINALS = \"\"\"\n",
        "Adj -> \"country\" | \"dreadful\" | \"enigmatical\" | \"little\" | \"moist\" | \"red\"\n",
        "Adv -> \"down\" | \"here\" | \"never\"\n",
        "Conj -> \"and\" | \"until\"\n",
        "Det -> \"a\" | \"an\" | \"his\" | \"my\" | \"the\"\n",
        "N -> \"armchair\" | \"companion\" | \"day\" | \"door\" | \"hand\" | \"he\" | \"himself\"\n",
        "N -> \"holmes\" | \"home\" | \"i\" | \"mess\" | \"paint\" | \"palm\" | \"pipe\" | \"she\"\n",
        "N -> \"smile\" | \"thursday\" | \"walk\" | \"we\" | \"word\"\n",
        "P -> \"at\" | \"before\" | \"in\" | \"of\" | \"on\" | \"to\"\n",
        "V -> \"arrived\" | \"came\" | \"chuckled\" | \"had\" | \"lit\" | \"said\" | \"sat\"\n",
        "V -> \"smiled\" | \"tell\" | \"were\"\n",
        "\"\"\"\n",
        "NONTERMINALS = \"\"\"\n",
        "S -> NP VP | VP NP | S Conj S\n",
        "NP -> N | Det N | NP PP | Det AdjP N\n",
        "VP -> V | V NP | V PP | Adv VP | VP Adv\n",
        "PP -> P NP\n",
        "AdjP -> Adj | Adj AdjP\n",
        "\"\"\""
      ],
      "execution_count": 2,
      "outputs": []
    },
    {
      "cell_type": "code",
      "metadata": {
        "id": "wJWDvE3gvMxc"
      },
      "source": [
        "grammar = nltk.CFG.fromstring(NONTERMINALS + TERMINALS)\n",
        "parser = nltk.ChartParser(grammar)"
      ],
      "execution_count": 3,
      "outputs": []
    },
    {
      "cell_type": "code",
      "metadata": {
        "id": "M3GC7KW7vM1-"
      },
      "source": [
        "def main():\n",
        "\n",
        "    # If filename specified, read sentence from file\n",
        "    if len(sys.argv) == 2:\n",
        "        with open(sys.argv[1]) as f:\n",
        "            s = f.read()\n",
        "\n",
        "    # Otherwise, get sentence as input\n",
        "    else:\n",
        "        s = input(\"Sentence: \")\n",
        "\n",
        "    # Convert input into list of words\n",
        "    s = preprocess(s)\n",
        "\n",
        "    # Attempt to parse sentence\n",
        "    try:\n",
        "        trees = list(parser.parse(s))\n",
        "    except ValueError as e:\n",
        "        print(e)\n",
        "        return\n",
        "    if not trees:\n",
        "        print(\"Could not parse sentence.\")\n",
        "        return\n",
        "\n",
        "    # Print each tree with noun phrase chunks\n",
        "    for tree in trees:\n",
        "        tree.pretty_print()\n",
        "\n",
        "        print(\"Noun Phrase Chunks\")\n",
        "        for np in np_chunk(tree):\n",
        "            print(\" \".join(np.flatten()))\n"
      ],
      "execution_count": 4,
      "outputs": []
    },
    {
      "cell_type": "code",
      "metadata": {
        "id": "zXHQrTWjvM4N"
      },
      "source": [
        "def preprocess(sentence):\n",
        "    # Regex pattern to match words with at least one alphabetic character\n",
        "    pattern = re.compile(\".*[a-z].*\")\n",
        "\n",
        "    # Word tokenize lower-cased sentence and remove all pure non-alphabetic words\n",
        "    words = nltk.word_tokenize(sentence.lower())\n",
        "    words = [word for word in words if pattern.match(word)]\n",
        "\n",
        "    return words"
      ],
      "execution_count": 5,
      "outputs": []
    },
    {
      "cell_type": "code",
      "metadata": {
        "id": "p00VBeo3vM6n"
      },
      "source": [
        "def np_chunk(tree):\n",
        "    np_chunks = []\n",
        "    parented_tree = nltk.tree.ParentedTree.convert(tree)\n",
        "    \n",
        "    for subtree in parented_tree.subtrees(lambda t: t.label() == 'N'):\n",
        "        np_chunks.append(subtree.parent())\n",
        "\n",
        "    return np_chunks"
      ],
      "execution_count": 6,
      "outputs": []
    },
    {
      "cell_type": "code",
      "metadata": {
        "id": "RJUZVh7CvM9C",
        "outputId": "d03b2fb9-85a8-4945-f7ee-9d05c57c70ef",
        "colab": {
          "base_uri": "https://localhost:8080/",
          "height": 387
        }
      },
      "source": [
        "main()"
      ],
      "execution_count": 7,
      "outputs": [
        {
          "output_type": "stream",
          "text": [
            "Sentence: Holmes sat in the red armchair and he chuckled.\n",
            "                        S                                 \n",
            "             ___________|______________________            \n",
            "            S                         |        |          \n",
            "   _________|___                      |        |           \n",
            "  |             VP                    |        |          \n",
            "  |      _______|___                  |        |           \n",
            "  |     |           PP                |        |          \n",
            "  |     |    _______|___              |        |           \n",
            "  |     |   |           NP            |        S          \n",
            "  |     |   |    _______|______       |     ___|_____      \n",
            "  NP    |   |   |      AdjP    |      |    NP        VP   \n",
            "  |     |   |   |       |      |      |    |         |     \n",
            "  N     V   P  Det     Adj     N     Conj  N         V    \n",
            "  |     |   |   |       |      |      |    |         |     \n",
            "holmes sat  in the     red  armchair and   he     chuckled\n",
            "\n",
            "Noun Phrase Chunks\n",
            "holmes\n",
            "the red armchair\n",
            "he\n"
          ],
          "name": "stdout"
        }
      ]
    }
  ]
}